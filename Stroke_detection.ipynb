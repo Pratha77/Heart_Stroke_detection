{
  "cells": [
    {
      "cell_type": "markdown",
      "metadata": {
        "id": "5gtiIwbkf4K3"
      },
      "source": [
        "# Heart Stroke Prediction"
      ]
    },
    {
      "cell_type": "markdown",
      "metadata": {
        "id": "OsnUMPvBf4K8"
      },
      "source": [
        "## Importing libraries"
      ]
    },
    {
      "cell_type": "code",
      "execution_count": null,
      "metadata": {
        "id": "PRf9o3KJf4K9"
      },
      "outputs": [],
      "source": [
        "#Importing the libraries\n",
        "import numpy as np\n",
        "import matplotlib.pyplot as plt\n",
        "import pandas as pd\n",
        "import seaborn as sns\n",
        "from sklearn.preprocessing import LabelEncoder\n",
        "from sklearn.model_selection import train_test_split\n",
        "from sklearn.linear_model import LogisticRegression\n",
        "from sklearn.tree import DecisionTreeClassifier\n",
        "from sklearn.svm import SVC\n",
        "from sklearn.neighbors import KNeighborsClassifier\n",
        "from sklearn import metrics\n",
        "from sklearn.metrics import accuracy_score\n",
        "from sklearn.metrics import mean_absolute_error\n",
        "from sklearn.metrics import f1_score\n",
        "from sklearn.metrics import mean_squared_error\n",
        "from sklearn.metrics import log_loss\n"
      ]
    },
    {
      "cell_type": "code",
      "execution_count": null,
      "metadata": {
        "id": "xkh87FXlf4K_"
      },
      "outputs": [],
      "source": [
        "#Loading the dataset\n",
        "df = pd.read_csv('healthcare-dataset-stroke-data.csv')\n",
        "df.head()"
      ]
    },
    {
      "cell_type": "code",
      "execution_count": null,
      "metadata": {
        "id": "CCKCmeH0f4LB"
      },
      "outputs": [],
      "source": [
        "df.drop('id', axis=1, inplace=True)"
      ]
    },
    {
      "cell_type": "markdown",
      "metadata": {
        "id": "34Z1uiZlf4LB"
      },
      "source": [
        "## Data Preprocessing"
      ]
    },
    {
      "cell_type": "code",
      "execution_count": null,
      "metadata": {
        "id": "vi4mQIMEf4LC"
      },
      "outputs": [],
      "source": [
        "df.describe()"
      ]
    },
    {
      "cell_type": "code",
      "execution_count": null,
      "metadata": {
        "id": "pDrSny5jf4LC"
      },
      "outputs": [],
      "source": [
        "df.info()"
      ]
    },
    {
      "cell_type": "code",
      "execution_count": null,
      "metadata": {
        "id": "ZjW392Adf4LD"
      },
      "outputs": [],
      "source": [
        "df['age'].astype(int)"
      ]
    },
    {
      "cell_type": "code",
      "execution_count": null,
      "metadata": {
        "id": "kP8lLvNcf4LD"
      },
      "outputs": [],
      "source": [
        "#Checking for null values\n",
        "df.isnull().sum()"
      ]
    },
    {
      "cell_type": "code",
      "execution_count": null,
      "metadata": {
        "id": "Sz36UR6Cf4LE"
      },
      "outputs": [],
      "source": [
        "#replacing the missing values with the most frequent value\n",
        "df['bmi'].fillna(df['bmi'].mode()[0], inplace=True)"
      ]
    },
    {
      "cell_type": "markdown",
      "metadata": {
        "id": "Po1clKaKf4LE"
      },
      "source": [
        "#### Check values and their count in the columns"
      ]
    },
    {
      "cell_type": "code",
      "execution_count": null,
      "metadata": {
        "id": "nDyb_-sQf4LF"
      },
      "outputs": [],
      "source": [
        "print(df['ever_married'].value_counts())\n",
        "print(df['work_type'].value_counts())\n",
        "print(df['gender'].value_counts())\n",
        "print(df['Residence_type'].value_counts())\n",
        "print(df['smoking_status'].value_counts())"
      ]
    },
    {
      "cell_type": "markdown",
      "metadata": {
        "id": "4bK7gT62f4LF"
      },
      "source": [
        "#### Replacing the values in columns with numerical values"
      ]
    },
    {
      "cell_type": "markdown",
      "metadata": {
        "id": "lZxjcZUOf4LG"
      },
      "source": [
        "- Residence Type: Urban = 1, Rural = 0\n",
        "- Smoking Status: formerly smoked = 1, never smoked = 2, smokes = 3, Unknown = 0\n",
        "-   Ever_Maried : Yes = 1, No = 0\n",
        "- Gender : Male = 1, Female = 0, Other = 2\n",
        "- Work Type : Private = 0, Self-employed = 1, children = 2, Govt_job = 3, Never_worked = 4\n"
      ]
    },
    {
      "cell_type": "code",
      "execution_count": null,
      "metadata": {
        "id": "4H4S7Iytf4LG"
      },
      "outputs": [],
      "source": [
        "df['ever_married'].replace({'Yes':1, 'No':0}, inplace=True)\n",
        "df['gender'].replace({'Male':1, 'Female':0,'Other':2}, inplace=True)\n",
        "df['Residence_type'].replace({'Urban':1, 'Rural':0}, inplace=True)\n",
        "df['smoking_status'].replace({'formerly smoked':0, 'never smoked':1, 'smokes':2, 'Unknown':3}, inplace=True)\n",
        "df['work_type'].replace({'Private':0, 'Self-employed':1, 'children':2, 'Govt_job':3, 'Never_worked':4}, inplace=True)\n"
      ]
    },
    {
      "cell_type": "markdown",
      "metadata": {
        "id": "krLZruxVf4LG"
      },
      "source": [
        "## Exploratory Data Analysis"
      ]
    },
    {
      "cell_type": "markdown",
      "metadata": {
        "id": "teTlgyWSf4LH"
      },
      "source": [
        "#### Find correlation between the variables"
      ]
    },
    {
      "cell_type": "code",
      "execution_count": null,
      "metadata": {
        "id": "2EuLdjLTf4LH"
      },
      "outputs": [],
      "source": [
        "df.corr()['stroke'][:-1].sort_values().plot(kind='bar')"
      ]
    },
    {
      "cell_type": "code",
      "execution_count": null,
      "metadata": {
        "id": "ZA7wtnRkf4LH"
      },
      "outputs": [],
      "source": [
        "plt.figure(figsize=(10,10))\n",
        "sns.heatmap(df.corr(), annot=True)"
      ]
    },
    {
      "cell_type": "code",
      "execution_count": null,
      "metadata": {
        "id": "Zi6rcfKXf4LI"
      },
      "outputs": [],
      "source": [
        "# replace age with number wrt to age group\n",
        "# 0 = 0-12 , 1 = 13-19 , 2 = 20-30 , 3 = 31-60 , 4 = 61-100\n",
        "df['age'] = pd.cut(x=df['age'], bins=[0, 12, 19, 30, 60, 100], labels=[0, 1, 2, 3,4])\n",
        "df.head()"
      ]
    },
    {
      "cell_type": "markdown",
      "metadata": {
        "id": "fbGT8Uohf4LI"
      },
      "source": [
        "## Visulaizing the data"
      ]
    },
    {
      "cell_type": "code",
      "execution_count": null,
      "metadata": {
        "id": "vav-n2uKf4LJ"
      },
      "outputs": [],
      "source": [
        "sns.countplot(x = 'gender', data = df)"
      ]
    },
    {
      "cell_type": "code",
      "execution_count": null,
      "metadata": {
        "id": "UP-oZOxDf4LJ"
      },
      "outputs": [],
      "source": [
        "fig, ax = plt.subplots(4,4,figsize=(20, 20))\n",
        "sns.countplot(x = 'gender', data = df,hue = 'stroke', ax=ax[0,0])\n",
        "sns.countplot(x = 'age', data = df,hue = 'hypertension', ax=ax[0,1])\n",
        "sns.countplot(x = 'age', data = df,hue = 'heart_disease', ax=ax[0,2])\n",
        "sns.countplot(x = 'age', data = df,hue = 'stroke', ax=ax[0,3])\n",
        "sns.countplot(x = 'hypertension', data = df,hue = 'stroke', ax=ax[1,0])\n",
        "sns.countplot(x = 'heart_disease', data = df,hue = 'stroke', ax=ax[1,1])\n",
        "sns.countplot(x = 'ever_married', data = df,hue = 'stroke', ax=ax[1,2])\n",
        "sns.countplot(x = 'age', data = df,hue = 'ever_married', ax=ax[1,3])\n",
        "sns.countplot(x = 'work_type', data = df,hue = 'stroke', ax=ax[2,0])\n",
        "sns.countplot(x = 'Residence_type', data = df,hue = 'stroke', ax=ax[2,1])\n",
        "sns.countplot(x = 'smoking_status', data = df,hue = 'stroke', ax=ax[2,2])\n",
        "sns.lineplot(x = 'bmi', y = 'avg_glucose_level', data = df,hue = 'stroke', ax=ax[2,3])\n",
        "sns.countplot(x = 'age', data = df,hue = 'smoking_status', ax=ax[3,0])\n",
        "sns.countplot( x = 'work_type', data = df,hue = 'Residence_type', ax=ax[3,1])\n",
        "sns.countplot(x = 'work_type', data = df,hue = 'smoking_status', ax=ax[3,2])\n",
        "sns.countplot(x = 'Residence_type', data = df,hue = 'smoking_status', ax=ax[3,3])"
      ]
    },
    {
      "cell_type": "markdown",
      "metadata": {
        "id": "lFrXQ2Idf4LK"
      },
      "source": [
        "## Train Test Split"
      ]
    },
    {
      "cell_type": "code",
      "execution_count": null,
      "metadata": {
        "id": "zyNBJZhff4LK"
      },
      "outputs": [],
      "source": [
        "X_train, X_test, y_train, y_test = train_test_split(df.drop('stroke', axis=1), df['stroke'], test_size=0.2, random_state=42)"
      ]
    },
    {
      "cell_type": "markdown",
      "metadata": {
        "id": "_D9qpnrNf4LK"
      },
      "source": [
        "## Model Training"
      ]
    },
    {
      "cell_type": "markdown",
      "metadata": {
        "id": "ip81uMeOf4LL"
      },
      "source": [
        "### Logistic Regression"
      ]
    },
    {
      "cell_type": "code",
      "execution_count": null,
      "metadata": {
        "id": "RCHdKU8yf4LL"
      },
      "outputs": [],
      "source": [
        "lr = LogisticRegression()\n",
        "lr"
      ]
    },
    {
      "cell_type": "code",
      "execution_count": null,
      "metadata": {
        "id": "fN5XQjlff4LL"
      },
      "outputs": [],
      "source": [
        "#training the model\n",
        "lr.fit(X_train, y_train)\n",
        "lr.score(X_test, y_test)"
      ]
    },
    {
      "cell_type": "code",
      "execution_count": null,
      "metadata": {
        "id": "FJxnOzj2f4LM"
      },
      "outputs": [],
      "source": [
        "#testing the model\n",
        "lr_pred = lr.predict(X_test)\n",
        "accuracy_score(y_test, lr_pred)"
      ]
    },
    {
      "cell_type": "markdown",
      "metadata": {
        "id": "ko182vpLf4LM"
      },
      "source": [
        "### Support Vector Machine (SVM)"
      ]
    },
    {
      "cell_type": "code",
      "execution_count": null,
      "metadata": {
        "id": "LUd_EUQuf4LM"
      },
      "outputs": [],
      "source": [
        "from sklearn.svm import SVC\n",
        "svm = SVC()\n",
        "svm"
      ]
    },
    {
      "cell_type": "code",
      "execution_count": null,
      "metadata": {
        "id": "N37P6rhvf4LN"
      },
      "outputs": [],
      "source": [
        "#training the model\n",
        "svm.fit(X_train, y_train)\n",
        "svm.score(X_test, y_test)"
      ]
    },
    {
      "cell_type": "code",
      "execution_count": null,
      "metadata": {
        "id": "1qR1sWp5f4LN"
      },
      "outputs": [],
      "source": [
        "#testing the model\n",
        "sv_pred = svm.predict(X_test)\n",
        "accuracy_score(y_test, sv_pred)"
      ]
    },
    {
      "cell_type": "markdown",
      "metadata": {
        "id": "ZT859ZFAf4LO"
      },
      "source": [
        "### Decision Tree Classifier"
      ]
    },
    {
      "cell_type": "code",
      "execution_count": null,
      "metadata": {
        "id": "dJTCAMCFf4LO"
      },
      "outputs": [],
      "source": [
        "from sklearn.tree import DecisionTreeClassifier\n",
        "dt = DecisionTreeClassifier()\n",
        "dt"
      ]
    },
    {
      "cell_type": "code",
      "execution_count": null,
      "metadata": {
        "id": "xhetPkCvf4LP"
      },
      "outputs": [],
      "source": [
        "#training the model\n",
        "dt.fit(X_train, y_train)\n",
        "dt.score(X_test, y_test)"
      ]
    },
    {
      "cell_type": "code",
      "execution_count": null,
      "metadata": {
        "id": "FKb9lZdHf4LP"
      },
      "outputs": [],
      "source": [
        "#testing the model\n",
        "dt_pred = dt.predict(X_test)\n",
        "accuracy_score(y_test, dt_pred)"
      ]
    },
    {
      "cell_type": "markdown",
      "metadata": {
        "id": "TswQnffxf4Lc"
      },
      "source": [
        "### K-Nearest Neighbors (KNN)"
      ]
    },
    {
      "cell_type": "code",
      "execution_count": null,
      "metadata": {
        "id": "vUHcBH1Wf4Lc"
      },
      "outputs": [],
      "source": [
        "knn = KNeighborsClassifier()\n",
        "knn"
      ]
    },
    {
      "cell_type": "code",
      "execution_count": null,
      "metadata": {
        "id": "YOQ09Spgf4Ld"
      },
      "outputs": [],
      "source": [
        "#training the model\n",
        "knn.fit(X_train, y_train)\n",
        "knn.score(X_test, y_test)"
      ]
    },
    {
      "cell_type": "code",
      "execution_count": null,
      "metadata": {
        "id": "PIxDwwLxf4Ld"
      },
      "outputs": [],
      "source": [
        "#testing the model\n",
        "knn_pred = knn.predict(X_test)\n",
        "accuracy_score(y_test, knn_pred)"
      ]
    },
    {
      "cell_type": "markdown",
      "metadata": {
        "id": "A1PyqzP8f4Le"
      },
      "source": [
        "## Model Evaluation"
      ]
    },
    {
      "cell_type": "markdown",
      "metadata": {
        "id": "1ttwz5Pzf4Le"
      },
      "source": [
        "### Logistic Regression"
      ]
    },
    {
      "cell_type": "code",
      "execution_count": null,
      "metadata": {
        "id": "Ah9s3HLwf4Le"
      },
      "outputs": [],
      "source": [
        "sns.heatmap(metrics.confusion_matrix(y_test, lr_pred), annot=True, fmt='d')\n",
        "plt.title('Accuracy Score: {}'.format(accuracy_score(y_test, lr_pred)))\n",
        "plt.ylabel('Predicted')\n",
        "plt.xlabel('Actual')\n",
        "plt.show()"
      ]
    },
    {
      "cell_type": "code",
      "execution_count": null,
      "metadata": {
        "id": "BYKf-jE6f4Lf"
      },
      "outputs": [],
      "source": [
        "print('Logistic Regression Model Accuracy Score:',accuracy_score(y_test, lr_pred))\n",
        "print('Logistic Regression Model F1 score: ',metrics.f1_score(y_test, lr_pred))\n",
        "print('Logistic Regression Model Mean Absolute Error: ',metrics.mean_absolute_error(y_test, lr_pred))\n",
        "print('Logistic Regression Model Mean Squared Error: ',metrics.mean_squared_error(y_test, lr_pred))\n",
        "print('Logistic Regression Model log loss: ',log_loss(y_test, lr_pred))"
      ]
    },
    {
      "cell_type": "markdown",
      "metadata": {
        "id": "474fUDPXf4Lf"
      },
      "source": [
        "### Support Vector Machine (SVM)"
      ]
    },
    {
      "cell_type": "code",
      "execution_count": null,
      "metadata": {
        "id": "ZqtpTtR-f4Lg"
      },
      "outputs": [],
      "source": [
        "sns.heatmap(metrics.confusion_matrix(y_test, sv_pred), annot=True, fmt='d')\n",
        "plt.title('Accuracy Score: {}'.format(accuracy_score(y_test, sv_pred)))\n",
        "plt.ylabel('Predicted')\n",
        "plt.xlabel('Actual')\n",
        "plt.show()"
      ]
    },
    {
      "cell_type": "code",
      "execution_count": null,
      "metadata": {
        "id": "C6ACFvXnf4Lg"
      },
      "outputs": [],
      "source": [
        "print('SVM Model Accuracy Score:',accuracy_score(y_test, sv_pred))\n",
        "print('SVM Model F1 score: ',metrics.f1_score(y_test, sv_pred))\n",
        "print('SVM Model Mean Absolute Error: ',metrics.mean_absolute_error(y_test, sv_pred))\n",
        "print('SVM Model Mean Squared Error: ',metrics.mean_squared_error(y_test, sv_pred))\n",
        "print('SVM Model log loss: ',log_loss(y_test, sv_pred))"
      ]
    },
    {
      "cell_type": "markdown",
      "metadata": {
        "id": "niNJ6zPDf4Lg"
      },
      "source": [
        "### Decision Tree Classifier"
      ]
    },
    {
      "cell_type": "code",
      "execution_count": null,
      "metadata": {
        "id": "0W1KlMK5f4Lh"
      },
      "outputs": [],
      "source": [
        "sns.heatmap(metrics.confusion_matrix(y_test, dt_pred), annot=True, fmt='d')\n",
        "plt.title('Accuracy Score: {}'.format(accuracy_score(y_test, dt_pred)))\n",
        "plt.ylabel('Predicted')\n",
        "plt.xlabel('Actual')\n",
        "plt.show()"
      ]
    },
    {
      "cell_type": "code",
      "execution_count": null,
      "metadata": {
        "id": "dgNWfH-4f4Lh"
      },
      "outputs": [],
      "source": [
        "print('Decision Tree Model Accuracy Score:',accuracy_score(y_test, dt_pred))\n",
        "print('Decision Tree Model F1 score: ',metrics.f1_score(y_test, dt_pred))\n",
        "print('Decision Tree Model Mean Absolute Error: ',metrics.mean_absolute_error(y_test, dt_pred))\n",
        "print('Decision Tree Model Mean Squared Error: ',metrics.mean_squared_error(y_test, dt_pred))\n",
        "print('Decision Tree Model log loss: ',log_loss(y_test, dt_pred))"
      ]
    },
    {
      "cell_type": "markdown",
      "metadata": {
        "id": "NVStS6wzf4Li"
      },
      "source": [
        "### K-Nearest Neighbors (KNN)"
      ]
    },
    {
      "cell_type": "code",
      "execution_count": null,
      "metadata": {
        "id": "AdUXIjZDf4Li"
      },
      "outputs": [],
      "source": [
        "sns.heatmap(metrics.confusion_matrix(y_test, knn_pred), annot=True, fmt='d')\n",
        "plt.title('Accuracy Score: {}'.format(accuracy_score(y_test, knn_pred)))\n",
        "plt.ylabel('Predicted')\n",
        "plt.xlabel('Actual')\n",
        "plt.show()"
      ]
    },
    {
      "cell_type": "code",
      "execution_count": null,
      "metadata": {
        "id": "V9O2Dei4f4Li"
      },
      "outputs": [],
      "source": [
        "print('KNN Model Accuracy Score:',accuracy_score(y_test, knn_pred))\n",
        "print('KNN Model F1 score: ',metrics.f1_score(y_test, knn_pred))\n",
        "print('KNN Model Mean Absolute Error: ',metrics.mean_absolute_error(y_test, knn_pred))\n",
        "print('KNN Model Mean Squared Error: ',metrics.mean_squared_error(y_test, knn_pred))\n",
        "print('KNN Model log loss: ',log_loss(y_test, knn_pred))"
      ]
    },
    {
      "cell_type": "markdown",
      "metadata": {
        "id": "SYXmTSfXf4Lj"
      },
      "source": [
        "## Model Comparison"
      ]
    },
    {
      "cell_type": "code",
      "execution_count": null,
      "metadata": {
        "id": "gyexPnaRf4Lj"
      },
      "outputs": [],
      "source": [
        "models = ['Logistic Regression', 'SVM', 'Decision Tree', 'KNN']\n",
        "accuracy = [accuracy_score(y_test, lr_pred), accuracy_score(y_test, sv_pred), accuracy_score(y_test, dt_pred), accuracy_score(y_test, knn_pred)]\n",
        "plt.figure(figsize=(10,5))\n",
        "plt.bar(models, accuracy, color = 'Maroon', width = 0.4)\n",
        "plt.xlabel('Models')\n",
        "plt.ylabel('Accuracy')\n",
        "plt.title('Model Accuracy')\n",
        "plt.show()"
      ]
    },
    {
      "cell_type": "markdown",
      "metadata": {
        "id": "J2BGL_Azf4Lk"
      },
      "source": [
        "## Conclusion"
      ]
    },
    {
      "cell_type": "markdown",
      "metadata": {
        "id": "9qMyqOWhf4Lk"
      },
      "source": [
        "The model accuracies of Logistic Regression, SVM and KNN  are quite similar i.e. 93.8 %. The accuracy of Decision Tree Classifier is 91.8 %. So, we can use any of these models to predict the heart stroke.\n",
        "\n",
        "According to the graphs age v/s hypertension, heart disease showing chances of stroke, the number of person having a stroke shows dependece upon heart disease and hypertension. But when we plot the graph of heart disease and hypertension against the stroke, the persons with lower chances of hypertension and heart disease has increased chances of stroke. This is a peculiar thing and needs to be investigated further. In addition to that non somkers have higher chances of stroke than smokers. This is also a peculiar thing and needs to be investigated further. However person having BMI between20 to 50 have higher chances of stroke.\n",
        "\n",
        "Last but not least other features such as martial status, residence type as well as work type are showing effect on the chances of stroke."
      ]
    }
  ],
  "metadata": {
    "kernelspec": {
      "display_name": "Python 3",
      "language": "python",
      "name": "python3"
    },
    "language_info": {
      "codemirror_mode": {
        "name": "ipython",
        "version": 3
      },
      "file_extension": ".py",
      "mimetype": "text/x-python",
      "name": "python",
      "nbconvert_exporter": "python",
      "pygments_lexer": "ipython3",
      "version": "3.7.6"
    },
    "colab": {
      "provenance": []
    }
  },
  "nbformat": 4,
  "nbformat_minor": 0
}